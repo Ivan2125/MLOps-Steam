{
 "cells": [
  {
   "cell_type": "markdown",
   "metadata": {},
   "source": [
    "# Funciones requeridas para la API"
   ]
  },
  {
   "cell_type": "markdown",
   "metadata": {},
   "source": [
    "En esta Jupyter Notebook se desarrollan y prueban las funciones que son solicitadas para la API. Luego, al momento del deployarlas es posible que sufran algunos cambios en función de los requerimientos propios de FastAPI o Render."
   ]
  },
  {
   "cell_type": "markdown",
   "metadata": {},
   "source": [
    "## Importaciones"
   ]
  },
  {
   "cell_type": "code",
   "execution_count": 1,
   "metadata": {},
   "outputs": [],
   "source": [
    "import pandas as pd"
   ]
  },
  {
   "cell_type": "markdown",
   "metadata": {},
   "source": [
    "## Carga de los dataset necesarios"
   ]
  },
  {
   "cell_type": "markdown",
   "metadata": {},
   "source": [
    "Se cargan los conjuntos de datos necesarios para llevar a cabo las consultas solicitadas. Se decide subir los datos de esta manera, y no los dataset completos, debido a la limitada capacidad de almacenamiento que permite Render. Por otra parte, considerando que el objetivo es entregar un PVM, a modo de prueba de concepto, se consideró adecuada esta simplificación de los datasets.\n",
    "\n",
    "Los  dataset que se utilizan son:\n",
    "\n",
    "* **games**: Contiene la información de los juegos de Steam, entre ellos Devs, Publicistas, Género, etc.\n",
    "* **reviews**: Contiene la información relacionada a los usuarios que realizan reviews de los juegos en formato de análisis de sentimientos. Entre esta información, se encuentran las recomendaciones o no del juego por parte de usuario, la fecha del review así como datos del usuario como su id, su url del perfil.\n",
    "* **gasto_items**: Contiene la cantidad de items que consume cada usuario y el precio de cada uno de los productos que consume.\n",
    "* **user_time_year**: Contiene para cada usuario su identificación, la url de su perfil, la cantidad de horas jugadas por cada género de juego.\n",
    "* **ranking_genero**: Contiene el ranking de los géneros de juegos con mas horas jugadas.\n",
    "* **items_developer**: Contiene la información relacionada con cada item de juegos como su id, precio, desarrollador y año de lanzamiento.\n",
    "* **top_dev**: Contiene la información de los desarrolladores junto con las recomendaciones, el análisis de sentimiento y el año de lanzamiento"
   ]
  },
  {
   "cell_type": "code",
   "execution_count": 2,
   "metadata": {},
   "outputs": [],
   "source": [
    "games = pd.read_parquet('data/01-steam-games.parquet')\n",
    "reviews = pd.read_parquet('data/02-user-reviews.parquet')\n",
    "gasto_items = pd.read_parquet('data/04-gasto-items.parquet')\n",
    "ranking_genero = pd.read_parquet('data/05-ranking-genero.parquet')\n",
    "items_developer = pd.read_parquet('data/07-items-developer.parquet')\n",
    "user_time_year = pd.read_parquet('data/08-user-time-year.parquet')\n",
    "top_dev = pd.read_parquet('data/09-top-dev.parquet')"
   ]
  },
  {
   "cell_type": "markdown",
   "metadata": {},
   "source": [
    "A continuación, se desarrollan cada una de las funciones solicitadas."
   ]
  },
  {
   "cell_type": "markdown",
   "metadata": {},
   "source": [
    "## Función `developer`"
   ]
  },
  {
   "cell_type": "markdown",
   "metadata": {},
   "source": [
    "Esta función recibe como parámetro 'developer', que es la empresa desarrolladora del juego, y devuelve la cantidad de items que desarrolla dicha empresa y el porcentaje de contenido Free por año por sobre el total que desarrolla"
   ]
  },
  {
   "cell_type": "code",
   "execution_count": 3,
   "metadata": {},
   "outputs": [],
   "source": [
    "def developer(desarrollador):\n",
    "    \"\"\"\n",
    "        Esta función retorna la cantidad de items y porcentaje de contenido Free por año según empresa desarrolladora.\n",
    "\n",
    "    Args:\n",
    "        def developer( desarrollador : str ):\n",
    "\n",
    "    Returns:\n",
    "        dict: {'release_year': {'cantidad_juegos': int,\n",
    "                'cantidad_gratis': int,\n",
    "                'porcentaje_gratis': int}}\n",
    "    \"\"\"\n",
    "    # Filtra el dataframe por desarrollador de interés\n",
    "    filtro = items_developer[items_developer['developer'] == desarrollador]\n",
    "    # Calcula la cantidad de items y la cantidad de elementos gratis por año\n",
    "    resumen_por_año = filtro.groupby('release_year').agg(cantidad_juegos=('item_id', 'count'),\n",
    "                                                                cantidad_gratis=('price', lambda x: (x == 0.0).sum()))\n",
    "    \n",
    "    # Calcula el porcentaje de elementos gratis por año\n",
    "    resumen_por_año['porcentaje_gratis'] = (resumen_por_año['cantidad_gratis'] / resumen_por_año['cantidad_juegos'] * 100).fillna(0).astype(int)\n",
    "\n",
    "    return resumen_por_año.to_dict(orient='index')"
   ]
  },
  {
   "cell_type": "code",
   "execution_count": 4,
   "metadata": {},
   "outputs": [
    {
     "data": {
      "text/plain": [
       "{2018: {'cantidad_juegos': 1, 'cantidad_gratis': 1, 'porcentaje_gratis': 100}}"
      ]
     },
     "execution_count": 4,
     "metadata": {},
     "output_type": "execute_result"
    }
   ],
   "source": [
    "desarrollador = 'Secret Level SRL'\n",
    "developer(desarrollador)"
   ]
  },
  {
   "cell_type": "markdown",
   "metadata": {},
   "source": [
    "## Función `userdata`"
   ]
  },
  {
   "cell_type": "markdown",
   "metadata": {},
   "source": [
    "Esta función tiene por parámentro 'user_id' y devulve la cantidad de dinero gastado por el usuario, el porcentaje de recomendaciones que realizó sobre la cantidad de reviews que se analizan y la cantidad de items que consume el mismo."
   ]
  },
  {
   "cell_type": "code",
   "execution_count": 5,
   "metadata": {},
   "outputs": [],
   "source": [
    "def userdata(user_id, total_reviews=None):\n",
    "    \"\"\"\n",
    "    Esta función devuelve la cantidad de dinero gastado por el usuario, el porcentaje de recomendación en base a reviews_recommend y cantidad de items.\n",
    "\n",
    "    Parámetros:\n",
    "    - user_id (int): Identificador único del usuario de interés.\n",
    "    - total_reviews (int, opcional): Total de revisiones realizadas por todos los usuarios. Si no se proporciona,\n",
    "      se calculará como la longitud de los identificadores únicos de usuarios en el conjunto de datos de revisiones.\n",
    "\n",
    "    Devuelve:\n",
    "    dict: \n",
    "        - 'usuario_': Identificador único del usuario.\n",
    "        - 'cantidad_dinero': Suma total de dinero gastado por el usuario en gasto_items.\n",
    "        - 'porcentaje_recomendacion': Porcentaje de recomendaciones realizadas por el usuario en comparación\n",
    "          con el total de revisiones en el conjunto de datos.\n",
    "        - 'total_items': La cantidad máxima de items comprados por el usuario en gasto_items.\n",
    "    \"\"\"\n",
    "    # Filtra por el usuario de interés en gasto_items\n",
    "    usuario_gastos = gasto_items[gasto_items['user_id'] == user_id]\n",
    "    \n",
    "    # Calcula la cantidad de dinero gastado y el total de items para el usuario de interés\n",
    "    \n",
    "    cantidad_dinero = usuario_gastos['price'].sum()\n",
    "    count_items = usuario_gastos['items_count'].max()\n",
    "\n",
    "    # Calcula el total de recomendaciones realizadas por el usuario de interés\n",
    "    total_recomendaciones = reviews[reviews['user_id'] == user_id]['reviews_recommend'].sum()\n",
    "\n",
    "    # Calcula el porcentaje de recomendaciones realizadas por el usuario de interés\n",
    "    if total_reviews is None:\n",
    "        total_reviews = len(reviews['user_id'].unique())\n",
    "\n",
    "    porcentaje_recomendaciones = (total_recomendaciones / total_reviews) * 100\n",
    "\n",
    "    return {\n",
    "        'usuario_': user_id,\n",
    "        'cantidad_dinero': cantidad_dinero,\n",
    "        'porcentaje_recomendacion': round(porcentaje_recomendaciones, 2),\n",
    "        'total_items': count_items\n",
    "    }\n",
    "\n"
   ]
  },
  {
   "cell_type": "code",
   "execution_count": 6,
   "metadata": {},
   "outputs": [
    {
     "data": {
      "text/plain": [
       "{'usuario_': 'evcentric',\n",
       " 'cantidad_dinero': 1387.15,\n",
       " 'porcentaje_recomendacion': 0.02,\n",
       " 'total_items': 137}"
      ]
     },
     "execution_count": 6,
     "metadata": {},
     "output_type": "execute_result"
    }
   ],
   "source": [
    "user_id = 'evcentric'\n",
    "userdata(user_id)"
   ]
  },
  {
   "cell_type": "markdown",
   "metadata": {},
   "source": [
    "## Función `UserForGenre`"
   ]
  },
  {
   "cell_type": "markdown",
   "metadata": {},
   "source": [
    "Esta función recibe como parámetro un género de videojuego y devuelve el puesto en el que se encuentra dicho género sobre un ranking de los mismos analizando la cantidad de horas jugadas para cada uno."
   ]
  },
  {
   "cell_type": "code",
   "execution_count": 7,
   "metadata": {},
   "outputs": [],
   "source": [
    "def UserForGenre(genero, usuario_especifico=None):\n",
    "    \"\"\"\n",
    "    Devuelve el usuario que acumula más horas jugadas para el género dado y una lista de la acumulación de horas jugadas por año de lanzamiento.\n",
    "\n",
    "    Parámetros:\n",
    "    - df (DataFrame): DataFrame que contiene las columnas 'playtime_forever', 'user_id', 'genres', 'release_year'.\n",
    "    - genero (str): Género específico para el cual se desea obtener la información.\n",
    "    - usuario_especifico (str, opcional): Usuario específico para el cual se calculará la acumulación de horas jugadas. Si no se proporciona, se usará el usuario con más horas jugadas.\n",
    "\n",
    "    Retorna:\n",
    "    dict: Un diccionario con la siguiente estructura:\n",
    "        {\n",
    "            \"Usuario con más horas jugadas para <genero>\": <usuario>,\n",
    "            \"Horas jugadas\": [\n",
    "                {\"Año\": <año1>, \"Horas\": <horas1>},\n",
    "                {\"Año\": <año2>, \"Horas\": <horas2>},\n",
    "                ...\n",
    "            ]\n",
    "        }\n",
    "    \"\"\"\n",
    "\n",
    "    # Filtra el DataFrame por el género dado\n",
    "    data_genero = user_time_year[user_time_year['genres'].str.contains(genero, case=False, na=False)]\n",
    "\n",
    "    if usuario_especifico is None:\n",
    "        # Encuentra el usuario con más horas jugadas para el género dado\n",
    "        usuario_mas_horas = data_genero.groupby('user_id')['playtime_forever'].sum().idxmax()\n",
    "    else:\n",
    "        usuario_mas_horas = usuario_especifico\n",
    "\n",
    "    # Filtra nuevamente por el usuario con más horas jugadas\n",
    "    data_genero_usuario = data_genero[data_genero['user_id'] == usuario_mas_horas]\n",
    "\n",
    "    # Calcula la acumulación de horas jugadas por año de lanzamiento\n",
    "    horas_por_año = data_genero_usuario.groupby('release_year')['playtime_forever'].sum().reset_index()\n",
    "\n",
    "    # Formatea el resultado como un diccionario\n",
    "    resultado = {\n",
    "        \"Usuario con más horas jugadas para {}: {}\".format(genero, usuario_mas_horas): usuario_mas_horas,\n",
    "        \"Horas jugadas\": [{\"Año\": int(año), \"Horas\": int(horas)} for año, horas in zip(horas_por_año['release_year'], horas_por_año['playtime_forever'])]\n",
    "    }\n",
    "\n",
    "    return resultado\n",
    "\n"
   ]
  },
  {
   "cell_type": "code",
   "execution_count": 9,
   "metadata": {},
   "outputs": [
    {
     "data": {
      "text/plain": [
       "{'Usuario con más horas jugadas para Indie: 76561198055326819': '76561198055326819',\n",
       " 'Horas jugadas': [{'Año': 2006, 'Horas': 5748}]}"
      ]
     },
     "execution_count": 9,
     "metadata": {},
     "output_type": "execute_result"
    }
   ],
   "source": [
    "# Ejemplo de uso\n",
    "genero = \"Indie\"\n",
    "resultado_ejemplo = UserForGenre(genero)\n",
    "resultado_ejemplo\n"
   ]
  },
  {
   "cell_type": "markdown",
   "metadata": {},
   "source": [
    "## Función `best_developer_year`"
   ]
  },
  {
   "cell_type": "code",
   "execution_count": 14,
   "metadata": {},
   "outputs": [],
   "source": [
    "def UsersRecommend(año):\n",
    "    \"\"\"\n",
    "    Devuelve el top 3 de desarrolladores con juegos MÁS recomendados y análisis de sentimientos positivos (2) por usuarios para el año dado.\n",
    "\n",
    "    Parámetros:\n",
    "    - año (int): Año específico para el cual se desea obtener la información.\n",
    "\n",
    "    Retorna:\n",
    "    list: Una lista de diccionarios con el siguiente formato:\n",
    "        [\n",
    "            {\"Puesto 1\": <desarrollador1>, \"recomendaciones\": <cantidad1>},\n",
    "            {\"Puesto 2\": <desarrollador2>, \"recomendaciones\": <cantidad2>},\n",
    "            {\"Puesto 3\": <desarrollador3>, \"recomendaciones\": <cantidad3>}\n",
    "        ]\n",
    "    \"\"\"\n",
    "    # Filtramos por el año deseado\n",
    "    df_filtered = top_dev[top_dev['release_year'] == año]\n",
    "\n",
    "    # Filtramos por comentarios recomendados y sentiment_analysis positivo/neutral\n",
    "    df_filtered = df_filtered[(df_filtered['reviews_recommend'] == True) & (df_filtered['sentiment_analysis'].isin([2]))]\n",
    "\n",
    "    # Obtenemos el top 3 de juegos recomendados\n",
    "    top_games = df_filtered['developer'].value_counts().head(3).reset_index()\n",
    "\n",
    "    # Modificamos la estructura del resultado\n",
    "    result = [{\"Puesto {}\".format(i + 1): juego, 'recomendaciones': count} for i, (juego, count) in enumerate(zip(top_games['developer'], top_games['count']))]\n",
    "\n",
    "    return result"
   ]
  },
  {
   "cell_type": "code",
   "execution_count": 16,
   "metadata": {},
   "outputs": [
    {
     "data": {
      "text/plain": [
       "[{'Puesto 1': 'The Behemoth', 'recomendaciones': 3},\n",
       " {'Puesto 2': 'Daedalic Entertainment', 'recomendaciones': 3},\n",
       " {'Puesto 3': 'Flying Wild Hog', 'recomendaciones': 2}]"
      ]
     },
     "execution_count": 16,
     "metadata": {},
     "output_type": "execute_result"
    }
   ],
   "source": [
    "# Ejemplo de uso\n",
    "año_ejemplo = 2012\n",
    "resultado_ejemplo = UsersRecommend(año_ejemplo)\n",
    "resultado_ejemplo\n"
   ]
  },
  {
   "cell_type": "markdown",
   "metadata": {},
   "source": [
    "## Función `developer_reviews_analysis`"
   ]
  },
  {
   "cell_type": "code",
   "execution_count": 12,
   "metadata": {},
   "outputs": [],
   "source": [
    "def developer_reviews_analysis(desarrollador):\n",
    "    \"\"\"\n",
    "    Analiza las reseñas de usuarios para un desarrollador específico y devuelve un diccionario con la cantidad total\n",
    "    de registros de reseñas categorizados con un análisis de sentimiento como positivo o negativo.\n",
    "\n",
    "    Parámetros:\n",
    "    - df (DataFrame): DataFrame que contiene las columnas 'playtime_forever', 'user_id', 'item_id', 'genres', 'release_year'.\n",
    "    - desarrollador (str): Nombre del desarrollador para el cual se desea realizar el análisis.\n",
    "\n",
    "    Retorna:\n",
    "    dict: Un diccionario con el nombre del desarrollador como llave y una lista con la cantidad total de registros de\n",
    "    reseñas categorizados con un análisis de sentimiento como valor positivo o negativo.\n",
    "    \"\"\"\n",
    "    # Filtra el DataFrame por el desarrollador deseado\n",
    "    df_desarrollador = top_dev[top_dev['developer'] == desarrollador]\n",
    "\n",
    "    # Cuenta la cantidad total de registros de reseñas categorizados como positivos o negativos\n",
    "    count_sentimiento = df_desarrollador['sentiment_analysis'].value_counts()\n",
    "\n",
    "    # Formatea el resultado como un diccionario\n",
    "    result = {desarrollador: {'Negative': count_sentimiento.get(0, 0), 'Positive': count_sentimiento.get(2, 0)}}\n",
    "\n",
    "    return result\n",
    "\n"
   ]
  },
  {
   "cell_type": "code",
   "execution_count": 13,
   "metadata": {},
   "outputs": [
    {
     "data": {
      "text/plain": [
       "{'Valve': {'Negative': 30, 'Positive': 35}}"
      ]
     },
     "execution_count": 13,
     "metadata": {},
     "output_type": "execute_result"
    }
   ],
   "source": [
    "# Ejemplo de uso\n",
    "desarrollador_ejemplo = \"Valve\"\n",
    "resultado_ejemplo = developer_reviews_analysis(desarrollador_ejemplo)\n",
    "resultado_ejemplo"
   ]
  }
 ],
 "metadata": {
  "kernelspec": {
   "display_name": "mlenv",
   "language": "python",
   "name": "python3"
  },
  "language_info": {
   "codemirror_mode": {
    "name": "ipython",
    "version": 3
   },
   "file_extension": ".py",
   "mimetype": "text/x-python",
   "name": "python",
   "nbconvert_exporter": "python",
   "pygments_lexer": "ipython3",
   "version": "3.12.1"
  },
  "orig_nbformat": 4
 },
 "nbformat": 4,
 "nbformat_minor": 2
}
